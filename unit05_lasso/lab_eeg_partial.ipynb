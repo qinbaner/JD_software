{
  "cells": [
    {
      "cell_type": "markdown",
      "metadata": {
        "id": "kuxsRTB_iKw9"
      },
      "source": [
        "# Lab:  Source Localization for EEG\n",
        "\n",
        "EEG or [Electroencephalography](https://en.wikipedia.org/wiki/Electroencephalography) is a powerful tool for neuroscientists in understanding brain activity.  In EEG, a patient wears a headset with electrodes that measures voltages at a number of points on the scalp.  These voltages arise from ionic currents within the brain.  A common *inverse problem* is to estimate the which parts of the brain caused the measured response.  Source localization is useful in understanding which parts of the brain are involved in certain tasks.  A key challenge in this inverse problem is that the number of unknowns (possible locations in the brain) is much larger than the number of measurements.  In this lab, we will use LASSO regression on a real EEG dataset to overcome this problem and determine the brain region that is active under an auditory stimulus.\n",
        "\n",
        "In addition to the concepts in the [prostate LASSO demo](./demo_prostate.ipynb) you will learn to:\n",
        "* Represent responses of multi-channel time-series data, such as EEG, using linear models\n",
        "* Perform LASSO and Ridge regression\n",
        "* Select the regularization level via cross-validation\n",
        "* Visually compare the sparsity between the solutions\n",
        "\n",
        "We first download standard packages."
      ]
    },
    {
      "cell_type": "code",
      "execution_count": 135,
      "metadata": {
        "id": "anBWPHELiKw-"
      },
      "outputs": [],
      "source": [
        "import numpy as np\n",
        "import matplotlib.pyplot as plt\n",
        "import pickle\n",
        "\n",
        "from sklearn.linear_model import Lasso, Ridge, ElasticNet\n",
        "from sklearn.metrics import r2_score\n",
        "from sklearn.model_selection import train_test_split"
      ]
    },
    {
      "cell_type": "markdown",
      "metadata": {
        "id": "E_JzmVTqiKw-"
      },
      "source": [
        "## Load the Data\n",
        "\n",
        "The data in this lab is taken from one of the sample datasets in the [MNE website](https://martinos.org/mne/stable/index.html). The sample data is a recording from one subject who experienced some auditory stimulus on the left ear.    \n",
        "\n",
        "The raw data is very large (`1.5G`) and also requires that you install the `mne` python package. To make this lab easier, I have extracted and processed a small section of the data. The following command will download a `pickle` file `eeg_dat.p` to your local machine.  If you do want to create the data yourself, the program to create the data is in this directory in the github repository."
      ]
    },
    {
      "cell_type": "code",
      "execution_count": 136,
      "metadata": {
        "id": "0rmeAj8-iKw-",
        "outputId": "33870e2a-2ac0-42b5-f0e5-5f7c33784d7f",
        "colab": {
          "base_uri": "https://localhost:8080/",
          "height": 0
        }
      },
      "outputs": [
        {
          "output_type": "stream",
          "name": "stdout",
          "text": [
            "File eeg_dat.p is already downloaded\n"
          ]
        }
      ],
      "source": [
        "fn_src ='https://drive.google.com/uc?export=download&id=1RzQpKONOcXSMxH2ZzOI4iVMiTgD6ttSl'\n",
        "fn_dst ='eeg_dat.p'\n",
        "\n",
        "import os\n",
        "from six.moves import urllib\n",
        "\n",
        "if os.path.isfile(fn_dst):\n",
        "    print('File %s is already downloaded' % fn_dst)\n",
        "else:\n",
        "    print('Fetching file %s [53MB].  This may take a minute..' % fn_dst)\n",
        "    urllib.request.urlretrieve(fn_src, fn_dst)\n",
        "    print('File %s downloaded' % fn_dst)"
      ]
    },
    {
      "cell_type": "markdown",
      "metadata": {
        "id": "rtQ87K2jiKw_"
      },
      "source": [
        "Now run the following command which will get the data from the `pickle` file."
      ]
    },
    {
      "cell_type": "code",
      "execution_count": 137,
      "metadata": {
        "id": "ECNo0pt-iKw_"
      },
      "outputs": [],
      "source": [
        "import pickle\n",
        "fn = 'eeg_dat.p'\n",
        "with open(fn, 'rb') as fp:\n",
        "    [X,Y] = pickle.load(fp)"
      ]
    },
    {
      "cell_type": "markdown",
      "metadata": {
        "id": "Reh8pKANiKw_"
      },
      "source": [
        "To understand the data, there are three key variables:\n",
        "* `nt`    = number of time steps that we measure data\n",
        "* `nchan` = number of channels (i.e. electrodes) measured in each time step\n",
        "* `ncur`  = number of currents in the brain that we want to estimate.  \n",
        "\n",
        "Each current comes from one brain region (called a *voxel*) in either the `x`, `y` or `z` direction.  So,\n",
        "\n",
        "    nvoxels = ncur / 3\n",
        "    \n",
        "The components of the `X` and `Y` matrices are:\n",
        "*  `Y[i,k]` = electric field measurement on channel `i` at time `k`\n",
        "*  `X[i,j]` = sensitivity of channel `i` to current `j`.\n",
        "\n",
        "Using `X.shape` and `Y.shape` compute and print `nt`, `nchan`, `ncur` and `nvoxels`."
      ]
    },
    {
      "cell_type": "code",
      "execution_count": 138,
      "metadata": {
        "id": "aqVpnoUxiKw_",
        "outputId": "c9860bb0-2171-4e18-ebd4-1cd75263f25a",
        "colab": {
          "base_uri": "https://localhost:8080/",
          "height": 0
        }
      },
      "outputs": [
        {
          "output_type": "stream",
          "name": "stdout",
          "text": [
            "nt = 85\n",
            "nchan = 305\n",
            "ncur = 22494\n",
            "nvoxels = 7498\n"
          ]
        }
      ],
      "source": [
        "# TODO\n",
        "nt = Y.shape[1]       # number of time steps\n",
        "nchan = Y.shape[0]    # number of channels\n",
        "ncur = X.shape[1]     # number of currents to estimate\n",
        "nvoxels = ncur // 3   # number of voxels (since each voxel has x,y,z components)\n",
        "\n",
        "print(\"nt =\", nt)\n",
        "print(\"nchan =\", nchan)\n",
        "print(\"ncur =\", ncur)\n",
        "print(\"nvoxels =\", nvoxels)\n"
      ]
    },
    {
      "cell_type": "markdown",
      "metadata": {
        "id": "mHAEzunUiKw_"
      },
      "source": [
        "## Ridge Regression\n",
        "\n",
        "Our goal is to estimate the currents in the brain from the measurements `Y`.  One simple linear model is:\n",
        "\n",
        "    Y[i,k]  = \\sum_j X[i,j]*W[j,k]+ b[k]\n",
        "\n",
        "where `W[j,k]` is the value of current `j` at time `k` and `b[k]` is a bias.  We can solve for the current matrix `W` via linear regression.  \n",
        "\n",
        "Howeever, there is a problem:\n",
        "*  There are `nt x ncur` unknowns in `W`\n",
        "*  There are only `nt x nchan` measurements in `Y`.\n",
        "\n",
        "In this problem, we have:\n",
        "\n",
        "    number of measurements  << number of unknowns\n",
        "    \n",
        "We need to use regularization in these circumstances.  We first try Ridge regression.\n",
        "\n",
        "First split the data into training and test.  Use the `train_test_split` function with `test_size=0.33`."
      ]
    },
    {
      "cell_type": "code",
      "execution_count": 139,
      "metadata": {
        "id": "7FZfGwNGiKxA"
      },
      "outputs": [],
      "source": [
        "# TODO\n",
        "# Xtr,Xts,Ytr,Yts = train_test_split(...)\n",
        "from sklearn.model_selection import train_test_split\n",
        "\n",
        "# Split the data into training and test sets (33% test size)\n",
        "Xtr, Xts, Ytr, Yts = train_test_split(X, Y, test_size=0.33, random_state=0)\n"
      ]
    },
    {
      "cell_type": "markdown",
      "metadata": {
        "id": "1BK_eDZfiKxA"
      },
      "source": [
        "Use the `Ridge` regression object in `sklearn` to fit the model on the training data.  Use a regularization, `alpha=1`."
      ]
    },
    {
      "cell_type": "code",
      "execution_count": 140,
      "metadata": {
        "id": "s9lOX2M9iKxA"
      },
      "outputs": [],
      "source": [
        "# TODO\n",
        "# regr = Ridge(...)\n",
        "from sklearn.linear_model import Ridge\n",
        "\n",
        "# Create Ridge regression model with regularization alpha=1\n",
        "regr = Ridge(alpha=1)\n"
      ]
    },
    {
      "cell_type": "markdown",
      "metadata": {
        "id": "okhaMWSXiKxA"
      },
      "source": [
        "Preict the values `Y` on both the training and test data.  Use the `r2_score` method to measure the `R^2` value on both the training and test.  You will see that `R^2` value is large for the training data, it is very low for the test data.  This suggest that even with regularization, the model is over-fitting the data."
      ]
    },
    {
      "cell_type": "code",
      "execution_count": 141,
      "metadata": {
        "id": "g6h2DS5wiKxA",
        "outputId": "c5a7757a-5022-4aef-e9ed-1dbbf3fe6a56",
        "colab": {
          "base_uri": "https://localhost:8080/",
          "height": 0
        }
      },
      "outputs": [
        {
          "output_type": "stream",
          "name": "stdout",
          "text": [
            "Training R^2 (Ridge) = 0.6110777086887971\n",
            "Test R^2 (Ridge) = 0.1425018537234964\n"
          ]
        }
      ],
      "source": [
        "from sklearn.metrics import r2_score\n",
        "\n",
        "# Fit the Ridge model\n",
        "regr.fit(Xtr, Ytr)\n",
        "\n",
        "# Predictions\n",
        "Yhat_tr = regr.predict(Xtr)\n",
        "Yhat_ts = regr.predict(Xts)\n",
        "\n",
        "# R^2 scores\n",
        "rsq_tr = r2_score(Ytr, Yhat_tr)\n",
        "rsq_ts = r2_score(Yts, Yhat_ts)\n",
        "\n",
        "print(\"Training R^2 (Ridge) =\", rsq_tr)\n",
        "print(\"Test R^2 (Ridge) =\", rsq_ts)\n",
        "\n"
      ]
    },
    {
      "cell_type": "markdown",
      "metadata": {
        "id": "rBdgArJkiKxA"
      },
      "source": [
        "Next, try to see if we can get a better `R^2` score using different values of `alpha`.  Use cross-validation to measure the test `R^2` for 20 `alpha` values logarithmically spaced from `10^{-2}` to `10^{2}` (use `np.logspace()`).  You can use regular cross-validation.  You do not need to do `K`-fold."
      ]
    },
    {
      "cell_type": "code",
      "execution_count": 142,
      "metadata": {
        "id": "sQ-ElhxSiKxA",
        "outputId": "185bb524-c2ee-42fe-9063-6b4b700da446",
        "colab": {
          "base_uri": "https://localhost:8080/",
          "height": 0
        }
      },
      "outputs": [
        {
          "output_type": "stream",
          "name": "stdout",
          "text": [
            "Training R^2 = 0.6110777086887971\n",
            "Test R^2 = 0.1425018537234964\n"
          ]
        }
      ],
      "source": [
        "# TODO\n",
        "from sklearn.metrics import r2_score\n",
        "\n",
        "# Predictions\n",
        "Yhat_tr = regr.predict(Xtr)\n",
        "Yhat_ts = regr.predict(Xts)\n",
        "\n",
        "# R^2 scores\n",
        "rsq_tr = r2_score(Ytr, Yhat_tr)\n",
        "rsq_ts = r2_score(Yts, Yhat_ts)\n",
        "\n",
        "print(\"Training R^2 =\", rsq_tr)\n",
        "print(\"Test R^2 =\", rsq_ts)\n"
      ]
    },
    {
      "cell_type": "markdown",
      "metadata": {
        "id": "ptX658bDiKxA"
      },
      "source": [
        "Plot the test `R^2` vs. `alpha`.  And print the maximum test `R^2`.  You should see that the maximum test `R^2` is still not very high."
      ]
    },
    {
      "cell_type": "code",
      "execution_count": 143,
      "metadata": {
        "id": "oZWwOnWniKxB",
        "outputId": "778dc776-c8be-49e3-ac36-0ad660f625d2",
        "colab": {
          "base_uri": "https://localhost:8080/",
          "height": 516
        }
      },
      "outputs": [
        {
          "output_type": "display_data",
          "data": {
            "text/plain": [
              "<Figure size 640x480 with 1 Axes>"
            ],
            "image/png": "[encoded data removed]"
          },
          "metadata": {}
        },
        {
          "output_type": "stream",
          "name": "stdout",
          "text": [
            "Maximum test R^2 = 0.16843867194005918\n",
            "Best alpha = 0.29763514416313175\n"
          ]
        }
      ],
      "source": [
        "# Range of alpha values\n",
        "alphas = np.logspace(-2, 2, 20)\n",
        "rsq_ts_list = []\n",
        "\n",
        "for a in alphas:\n",
        "    regr = Ridge(alpha=a)\n",
        "    regr.fit(Xtr, Ytr)\n",
        "    Yhat_ts = regr.predict(Xts)\n",
        "    rsq_ts_list.append(r2_score(Yts, Yhat_ts))\n",
        "\n",
        "# Plot\n",
        "plt.semilogx(alphas, rsq_ts_list, marker='o')\n",
        "plt.xlabel(\"alpha\")\n",
        "plt.ylabel(\"Test $R^2$\")\n",
        "plt.title(\"Ridge: Test $R^2$ vs alpha\")\n",
        "plt.grid(True)\n",
        "plt.show()\n",
        "\n",
        "# Print maximum test R^2 and corresponding alpha\n",
        "best_idx = np.argmax(rsq_ts_list)\n",
        "print(\"Maximum test R^2 =\", rsq_ts_list[best_idx])\n",
        "print(\"Best alpha =\", alphas[best_idx])\n",
        "\n"
      ]
    },
    {
      "cell_type": "markdown",
      "metadata": {
        "id": "yg_PnQP7iKxB"
      },
      "source": [
        "Now, let's take a look at the solution.\n",
        "\n",
        "* Find the optimal regularization `alpha` from the cross-validation\n",
        "* Re-fit the model at the optimal `alpha`\n",
        "* Get the current matrix `W` from the coefficients in the linear model.  These are stored in `regr.coef_`.  You may need a transpose\n",
        "* For each current `j` compute `Wrms[j] =  sqrt( sum_k W[j,k]**2 )` which is root mean squared current.\n",
        "\n",
        "You will see that the vector `Wrms` is not sparse.  This means that the solution that is found with Ridge regression finds currents in all locations."
      ]
    },
    {
      "cell_type": "code",
      "execution_count": 144,
      "metadata": {
        "id": "TtQuvJ-AiKxB",
        "outputId": "91c3a688-28c5-4d27-f6c4-65366401d05f",
        "colab": {
          "base_uri": "https://localhost:8080/",
          "height": 0
        }
      },
      "outputs": [
        {
          "output_type": "stream",
          "name": "stdout",
          "text": [
            "Best alpha from CV/test search = 0.29763514416313175\n",
            "Shape of Wrms: (22494,)\n"
          ]
        }
      ],
      "source": [
        "# TODO\n",
        "# 1) Choose best alpha from previous search\n",
        "best_alpha = alphas[np.argmax(rsq_ts_list)]\n",
        "print(\"Best alpha from CV/test search =\", best_alpha)\n",
        "\n",
        "# 2) Refit model with best alpha\n",
        "regr = Ridge(alpha=best_alpha)\n",
        "regr.fit(Xtr, Ytr)\n",
        "\n",
        "# 3) Get coefficient matrix W (shape: ncur x nt)\n",
        "W = regr.coef_.T   # may need transpose depending on sklearn version\n",
        "\n",
        "# 4) Compute RMS for each current j\n",
        "Wrms = np.sqrt(np.sum(W**2, axis=1))\n",
        "\n",
        "print(\"Shape of Wrms:\", Wrms.shape)\n"
      ]
    },
    {
      "cell_type": "markdown",
      "metadata": {
        "id": "ZnWJr-e5iKxB"
      },
      "source": [
        "## LASSO Regression\n",
        "\n",
        "We can improve the estimate by imposing sparsity.  Biologically, we know that only a limited number of brain regions should be involved in the reponse to a particular stimuli.  As a result, we would expect that the current matrix `W[j,k]` to be zero for most values `j,k`.  We can impose this constraint using LASSO regularization.\n",
        "\n",
        "Re-fit the training data using the `Lasso` model with `alpha=1e-3`.  Also set `max_iter=100` and `tol=0.01`.  The LASSO solver is much slower, so this make take a minute."
      ]
    },
    {
      "cell_type": "code",
      "execution_count": 145,
      "metadata": {
        "id": "fLyzFzIUiKxB",
        "outputId": "ed6c7776-0997-490d-e968-9f9349b969e7",
        "colab": {
          "base_uri": "https://localhost:8080/",
          "height": 0
        }
      },
      "outputs": [
        {
          "output_type": "stream",
          "name": "stdout",
          "text": [
            "Training R^2 (LASSO): 0.1989745895211594\n",
            "Test R^2 (LASSO): 0.1366154589395666\n"
          ]
        }
      ],
      "source": [
        "# TODO\n",
        "from sklearn.linear_model import Lasso\n",
        "\n",
        "# Create and fit LASSO model\n",
        "lasso = Lasso(alpha=1e-3, max_iter=100, tol=0.01)\n",
        "lasso.fit(Xtr, Ytr)\n",
        "\n",
        "# Predictions (可选，用于计算R^2)\n",
        "Yhat_tr = lasso.predict(Xtr)\n",
        "Yhat_ts = lasso.predict(Xts)\n",
        "\n",
        "print(\"Training R^2 (LASSO):\", r2_score(Ytr, Yhat_tr))\n",
        "print(\"Test R^2 (LASSO):\", r2_score(Yts, Yhat_ts))\n"
      ]
    },
    {
      "cell_type": "markdown",
      "metadata": {
        "id": "8vNpT_lfiKxB"
      },
      "source": [
        "Now, test the model on the test data and measure the `R^2` value.  You should get a much better fit than with the Ridge regression solution.  "
      ]
    },
    {
      "cell_type": "code",
      "execution_count": 146,
      "metadata": {
        "id": "8f59n7z5iKxB",
        "outputId": "bceb71f9-13c1-4d8d-b4a3-34125f0fc29b",
        "colab": {
          "base_uri": "https://localhost:8080/",
          "height": 0
        }
      },
      "outputs": [
        {
          "output_type": "stream",
          "name": "stdout",
          "text": [
            "Test R^2 (LASSO): 0.1366154589395666\n"
          ]
        }
      ],
      "source": [
        "# TODO\n",
        "# Test the model on the test data and measure R^2\n",
        "Yhat_ts = lasso.predict(Xts)\n",
        "rsq_ts = r2_score(Yts, Yhat_ts)\n",
        "\n",
        "print(\"Test R^2 (LASSO):\", rsq_ts)\n"
      ]
    },
    {
      "cell_type": "markdown",
      "metadata": {
        "id": "3tiTfx5giKxB"
      },
      "source": [
        "We can now search for the optimal `alpha`.  Use cross-validation to find the `alpha` logarithically space between `alpha=10^{-3}` and `alpha=10^{-4}`.  Each fit takes some time, so use only 5 values of `alpha`. Also for each `alpha` store the current matrix.  This way, you will not have to re-fit the model."
      ]
    },
    {
      "cell_type": "code",
      "execution_count": 147,
      "metadata": {
        "id": "6sDv0d9ViKxB",
        "outputId": "b1239028-283a-483d-928c-0fc349b688bc",
        "colab": {
          "base_uri": "https://localhost:8080/",
          "height": 0
        }
      },
      "outputs": [
        {
          "output_type": "stream",
          "name": "stdout",
          "text": [
            "Best alpha = 0.00017782794100389227\n",
            "Max test R^2 = 0.3272271115654014\n"
          ]
        }
      ],
      "source": [
        "from sklearn.linear_model import Lasso\n",
        "\n",
        "# Define candidate alphas (logarithmically spaced)\n",
        "alphas = np.logspace(-3, -4, 5)\n",
        "\n",
        "# Store R^2 results and coefficient matrices\n",
        "rsq_list = []\n",
        "W_list = []\n",
        "\n",
        "for a in alphas:\n",
        "    lasso = Lasso(alpha=a, max_iter=1000, tol=0.01)\n",
        "    lasso.fit(Xtr, Ytr)\n",
        "\n",
        "    # Test performance\n",
        "    Yhat_ts = lasso.predict(Xts)\n",
        "    rsq = r2_score(Yts, Yhat_ts)\n",
        "    rsq_list.append(rsq)\n",
        "\n",
        "    # Store coefficient matrix W\n",
        "    W = lasso.coef_.T   # shape (ncur, nt)\n",
        "    W_list.append(W)\n",
        "\n",
        "# Report best alpha\n",
        "best_alpha = alphas[np.argmax(rsq_list)]\n",
        "print(\"Best alpha =\", best_alpha)\n",
        "print(\"Max test R^2 =\", np.max(rsq_list))\n",
        "\n"
      ]
    },
    {
      "cell_type": "markdown",
      "metadata": {
        "id": "JyQw2n6PiKxC"
      },
      "source": [
        "Plot the `r^2` value vs. `alpha`.  Print the optimal `r^2`.  You should see it is much higher than with the best Ridge Regression case."
      ]
    },
    {
      "cell_type": "code",
      "execution_count": 148,
      "metadata": {
        "id": "Tlo4gGhriKxC",
        "outputId": "1fd9a2dd-bcd7-49ef-f440-ea33435689bb",
        "colab": {
          "base_uri": "https://localhost:8080/",
          "height": 498
        }
      },
      "outputs": [
        {
          "output_type": "display_data",
          "data": {
            "text/plain": [
              "<Figure size 640x480 with 1 Axes>"
            ],
            "image/png": "[encoded data removed]"
          },
          "metadata": {}
        },
        {
          "output_type": "stream",
          "name": "stdout",
          "text": [
            "Optimal test R^2 (LASSO) = 0.3272271115654014\n"
          ]
        }
      ],
      "source": [
        "# TODO\n",
        "# Plot R^2 vs alpha (log scale for alpha)\n",
        "plt.semilogx(alphas, rsq_list, marker='o')\n",
        "plt.xlabel(\"alpha\")\n",
        "plt.ylabel(\"Test $R^2$\")\n",
        "plt.title(\"LASSO: Test $R^2$ vs alpha\")\n",
        "plt.grid(True)\n",
        "plt.show()\n",
        "\n",
        "# Print the optimal R^2\n",
        "best_rsq = np.max(rsq_list)\n",
        "print(\"Optimal test R^2 (LASSO) =\", best_rsq)\n"
      ]
    },
    {
      "cell_type": "markdown",
      "metadata": {
        "id": "E1-M8BbUiKxC"
      },
      "source": [
        "Display the current matrix `W` for the optimal `alpha` as you did in the Ridge Regression case.  You will see that is much sparser."
      ]
    },
    {
      "cell_type": "code",
      "execution_count": 149,
      "metadata": {
        "id": "ONL9XklJiKxC",
        "outputId": "387161ce-26c7-4fe0-a34a-930c868e4cef",
        "colab": {
          "base_uri": "https://localhost:8080/",
          "height": 472
        }
      },
      "outputs": [
        {
          "output_type": "display_data",
          "data": {
            "text/plain": [
              "<Figure size 640x480 with 1 Axes>"
            ],
            "image/png": "[encoded data removed]"
          },
          "metadata": {}
        }
      ],
      "source": [
        "# Get coefficient matrix W for best alpha\n",
        "best_idx = np.argmax(rsq_list)\n",
        "W = W_list[best_idx]   # we stored W_list earlier for each alpha\n",
        "\n",
        "# Compute RMS currents\n",
        "Wrms = np.sqrt(np.sum(W**2, axis=1))\n",
        "\n",
        "# Plot\n",
        "plt.figure()\n",
        "plt.plot(Wrms)\n",
        "plt.xlabel(\"Current index j\")\n",
        "plt.ylabel(\"Wrms (LASSO)\")\n",
        "plt.title(\"Current strengths with LASSO (optimal alpha)\")\n",
        "plt.show()\n"
      ]
    },
    {
      "cell_type": "markdown",
      "metadata": {
        "id": "-Yh7AzI1iKxC"
      },
      "source": [
        "## More fun\n",
        "\n",
        "If you want to more on this lab:\n",
        "* Install the [MNE python package](https://martinos.org/mne/stable/index.html).  This is an amazing package with many tools for processing EEG data.\n",
        "* In particular, you can use the above results to visualize where in the brain the currents sources are.\n",
        "* You can also improve the fitting with more regularization.  For example, we know that the currents will be non-zero in groups:  If the current is non-zero for one time, it is likely to non-zero for all time.  You can use the Group LASSO method.\n",
        "* You can combine these results to make predictions about what the patient is seeing or hearing or thinking."
      ]
    },
    {
      "cell_type": "code",
      "execution_count": 149,
      "metadata": {
        "id": "mrDZp-2uiKxC"
      },
      "outputs": [],
      "source": []
    }
  ],
  "metadata": {
    "kernelspec": {
      "display_name": "Python 3",
      "language": "python",
      "name": "python3"
    },
    "language_info": {
      "codemirror_mode": {
        "name": "ipython",
        "version": 3
      },
      "file_extension": ".py",
      "mimetype": "text/x-python",
      "name": "python",
      "nbconvert_exporter": "python",
      "pygments_lexer": "ipython3",
      "version": "3.6.7"
    },
    "colab": {
      "provenance": []
    }
  },
  "nbformat": 4,
  "nbformat_minor": 0
}